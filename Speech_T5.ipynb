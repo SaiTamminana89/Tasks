{
  "nbformat": 4,
  "nbformat_minor": 0,
  "metadata": {
    "colab": {
      "private_outputs": true,
      "provenance": []
    },
    "kernelspec": {
      "name": "python3",
      "display_name": "Python 3"
    },
    "language_info": {
      "name": "python"
    }
  },
  "cells": [
    {
      "cell_type": "markdown",
      "source": [
        "installing necessary libraries"
      ],
      "metadata": {
        "id": "evoixPHbEMxT"
      }
    },
    {
      "cell_type": "code",
      "source": [
        "pip install transformers"
      ],
      "metadata": {
        "id": "fXcJN9w_e01z"
      },
      "execution_count": null,
      "outputs": []
    },
    {
      "cell_type": "code",
      "source": [
        "!pip install datasets"
      ],
      "metadata": {
        "id": "ceah5hMzfPXP"
      },
      "execution_count": null,
      "outputs": []
    },
    {
      "cell_type": "code",
      "source": [
        "pip install sentencepiece"
      ],
      "metadata": {
        "id": "r7Wb2Lcnfc6k"
      },
      "execution_count": null,
      "outputs": []
    },
    {
      "cell_type": "code",
      "source": [
        "# Following pip packages need to be installed:\n",
        "# !pip install git+https://github.com/huggingface/transformers sentencepiece datasets\n",
        "\n",
        "from transformers import SpeechT5Processor, SpeechT5ForTextToSpeech, SpeechT5HifiGan\n",
        "from datasets import load_dataset"
      ],
      "metadata": {
        "id": "m49em7w9oTvc"
      },
      "execution_count": null,
      "outputs": []
    },
    {
      "cell_type": "code",
      "source": [
        "import torch\n",
        "import soundfile as sf\n",
        "from datasets import load_dataset"
      ],
      "metadata": {
        "id": "K-JTpTtIER9T"
      },
      "execution_count": null,
      "outputs": []
    },
    {
      "cell_type": "markdown",
      "source": [
        "importing models from hugging face"
      ],
      "metadata": {
        "id": "Alk1Id6PEVqh"
      }
    },
    {
      "cell_type": "code",
      "source": [
        "processor = SpeechT5Processor.from_pretrained(\"microsoft/speecht5_tts\")\n",
        "model = SpeechT5ForTextToSpeech.from_pretrained(\"microsoft/speecht5_tts\")\n",
        "vocoder = SpeechT5HifiGan.from_pretrained(\"microsoft/speecht5_hifigan\")"
      ],
      "metadata": {
        "id": "u8ZQyV_hEY7n"
      },
      "execution_count": null,
      "outputs": []
    },
    {
      "cell_type": "code",
      "execution_count": null,
      "metadata": {
        "id": "Hn5wcNtNc_3w"
      },
      "outputs": [],
      "source": [
        "inputs = processor(text=\"I am excited to join in openinapp\", return_tensors=\"pt\")\n",
        "\n",
        "# load xvector containing speaker's voice characteristics from a dataset\n",
        "embeddings_dataset = load_dataset(\"Matthijs/cmu-arctic-xvectors\", split=\"validation\")\n",
        "speaker_embeddings = torch.tensor(embeddings_dataset[7304][\"xvector\"]).unsqueeze(0)"
      ]
    },
    {
      "cell_type": "code",
      "source": [
        "\n",
        "speech = model.generate_speech(inputs[\"input_ids\"], speaker_embeddings, vocoder=vocoder)\n",
        "\n",
        "sf.write(\"speech.wav\", speech.numpy(), samplerate=16000)"
      ],
      "metadata": {
        "id": "23llp31lkvQg"
      },
      "execution_count": null,
      "outputs": []
    },
    {
      "cell_type": "code",
      "source": [
        "speech.shape"
      ],
      "metadata": {
        "id": "Nzfi8gVQkRw7"
      },
      "execution_count": null,
      "outputs": []
    },
    {
      "cell_type": "code",
      "source": [
        "from IPython.display import Audio\n",
        "\n",
        "Audio(speech, rate=16000)"
      ],
      "metadata": {
        "id": "_NlbgnB_kTD5"
      },
      "execution_count": null,
      "outputs": []
    }
  ]
}